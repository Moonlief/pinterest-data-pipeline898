{
 "cells": [
  {
   "cell_type": "code",
   "execution_count": 1,
   "metadata": {},
   "outputs": [
    {
     "name": "stdout",
     "output_type": "stream",
     "text": [
      "Credentials loaded sucessfully!!\n"
     ]
    },
    {
     "data": {
      "text/plain": [
       "'db_creds.yaml'"
      ]
     },
     "execution_count": 1,
     "metadata": {},
     "output_type": "execute_result"
    }
   ],
   "source": [
    "#Importing modules\n",
    "\n",
    "\n",
    "from user_posting_emulation import AWSDBConnector\n",
    "\n",
    "\n",
    "### 1. Getting data from the RDS database\n",
    "\n",
    "## read credentials\n",
    "connector_rds = AWSDBConnector()\n",
    "source_yaml = 'db_creds.yaml'\n",
    "connector_rds.read_db_creds(source_yaml)"
   ]
  },
  {
   "cell_type": "code",
   "execution_count": 2,
   "metadata": {},
   "outputs": [
    {
     "name": "stdout",
     "output_type": "stream",
     "text": [
      "Tables in the database: ['geolocation_data', 'pinterest_data', 'temp_geolocation_data', 'temp_user_data', 'user_data']\n",
      "Tables in the database: ['geolocation_data', 'pinterest_data', 'temp_geolocation_data', 'temp_user_data', 'user_data']\n"
     ]
    }
   ],
   "source": [
    "## initialising and returning an sqlalchemy database engine.\n",
    "engine_rds = connector_rds.create_db_connector()\n",
    "\n",
    "\n",
    "## Reading the data from the RDS database\n",
    "\n",
    "connector_tables_rds = connector_rds.list_db_tables(engine_rds)\n",
    "print(\"Tables in the database:\", connector_tables_rds)"
   ]
  },
  {
   "cell_type": "code",
   "execution_count": null,
   "metadata": {},
   "outputs": [],
   "source": [
    "\n",
    "## Printing the tables: pin_result, geo_result and user_result.\n",
    "connector_rds.run_infinite_post_data_loop_method(engine_rds)\n"
   ]
  },
  {
   "cell_type": "code",
   "execution_count": null,
   "metadata": {},
   "outputs": [],
   "source": []
  },
  {
   "cell_type": "code",
   "execution_count": null,
   "metadata": {},
   "outputs": [],
   "source": []
  }
 ],
 "metadata": {
  "kernelspec": {
   "display_name": "myenv",
   "language": "python",
   "name": "python3"
  },
  "language_info": {
   "codemirror_mode": {
    "name": "ipython",
    "version": 3
   },
   "file_extension": ".py",
   "mimetype": "text/x-python",
   "name": "python",
   "nbconvert_exporter": "python",
   "pygments_lexer": "ipython3",
   "version": "3.12.4"
  }
 },
 "nbformat": 4,
 "nbformat_minor": 2
}
